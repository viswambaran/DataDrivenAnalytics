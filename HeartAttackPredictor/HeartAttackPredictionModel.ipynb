{
 "cells": [
  {
   "cell_type": "markdown",
   "id": "4fa3168d",
   "metadata": {},
   "source": [
    "# Heart Attack Prediction Model\n"
   ]
  },
  {
   "cell_type": "markdown",
   "id": "f225a285",
   "metadata": {},
   "source": [
    "## Dataset preparation and summary"
   ]
  },
  {
   "cell_type": "markdown",
   "id": "e4faf14d",
   "metadata": {},
   "source": [
    "### Dataset information"
   ]
  },
  {
   "cell_type": "markdown",
   "id": "2e7d414a",
   "metadata": {},
   "source": [
    "-  Age : Age of the patient\n",
    "-  Sex : Sex of the patient\n",
    "-  exng: exercise induced angina (1 = yes; 0 = no)\n",
    "-  caa: number of major vessels (0-3)\n",
    "-  cp : Chest Pain type chest pain type\n",
    "    -  Value 1: typical angina\n",
    "    -  Value 2: atypical angina\n",
    "    -  Value 3: non-anginal pain\n",
    "    -  Value 0: asymptomatic\n",
    "-  trtbps : resting blood pressure (in mm Hg)\n",
    "-  chol : cholestoral in mg/dl fetched via BMI sensor\n",
    "-  fbs : (fasting blood sugar > 120 mg/dl) (1 = true; 0 = false)\n",
    "-  restecg : resting electrocardiographic results\n",
    "    -  Value 0: normal\n",
    "    -  Value 1: having ST-T wave abnormality (T wave inversions and/or ST elevation or depression of > 0.05 mV)\n",
    "    -  Value 2: showing probable or definite left ventricular hypertrophy by Estes' criteria\n",
    "-  thalachh : maximum heart rate achieved\n",
    "-  oldpeak : ST depression induced by exercise relative to rest\n",
    "-  slp  : the slope of the peak exercise ST segment \n",
    "    -  Value 0: downsloping\n",
    "    -  Value 1: flat\n",
    "    -  Value 2: downsloping\n",
    "-  thall : \n",
    "    -  Value 1: fixed defect \n",
    "    -  Value 2: normal\n",
    "    -  Value 3: reversible defect\n",
    "-  output : 0= less chance of heart attack 1= more chance of heart attack"
   ]
  },
  {
   "cell_type": "markdown",
   "id": "f8d62e1c",
   "metadata": {},
   "source": [
    "### Packages"
   ]
  },
  {
   "cell_type": "code",
   "execution_count": 1,
   "id": "2acfae96",
   "metadata": {},
   "outputs": [],
   "source": [
    "import pandas as pd \n",
    "import os \n",
    "import numpy as np \n",
    "import seaborn as sns\n",
    "import matplotlib.pyplot as plt\n",
    "from sklearn.neighbors import KNeighborsClassifier\n",
    "from sklearn import metrics\n",
    "\n",
    "# Ignore future warnings from pandas and other packages\n",
    "import warnings\n",
    "warnings.simplefilter(action='ignore')"
   ]
  },
  {
   "cell_type": "markdown",
   "id": "7dba50a9",
   "metadata": {},
   "source": [
    "### Dataset exploration"
   ]
  },
  {
   "cell_type": "code",
   "execution_count": 2,
   "id": "8f8b59f9",
   "metadata": {},
   "outputs": [
    {
     "data": {
      "text/html": [
       "<div>\n",
       "<style scoped>\n",
       "    .dataframe tbody tr th:only-of-type {\n",
       "        vertical-align: middle;\n",
       "    }\n",
       "\n",
       "    .dataframe tbody tr th {\n",
       "        vertical-align: top;\n",
       "    }\n",
       "\n",
       "    .dataframe thead th {\n",
       "        text-align: right;\n",
       "    }\n",
       "</style>\n",
       "<table border=\"1\" class=\"dataframe\">\n",
       "  <thead>\n",
       "    <tr style=\"text-align: right;\">\n",
       "      <th></th>\n",
       "      <th>age</th>\n",
       "      <th>sex</th>\n",
       "      <th>cp</th>\n",
       "      <th>trtbps</th>\n",
       "      <th>chol</th>\n",
       "      <th>fbs</th>\n",
       "      <th>restecg</th>\n",
       "      <th>thalachh</th>\n",
       "      <th>exng</th>\n",
       "      <th>oldpeak</th>\n",
       "      <th>slp</th>\n",
       "      <th>caa</th>\n",
       "      <th>thall</th>\n",
       "      <th>output</th>\n",
       "    </tr>\n",
       "  </thead>\n",
       "  <tbody>\n",
       "    <tr>\n",
       "      <th>0</th>\n",
       "      <td>63</td>\n",
       "      <td>1</td>\n",
       "      <td>3</td>\n",
       "      <td>145</td>\n",
       "      <td>233</td>\n",
       "      <td>1</td>\n",
       "      <td>0</td>\n",
       "      <td>150</td>\n",
       "      <td>0</td>\n",
       "      <td>2.3</td>\n",
       "      <td>0</td>\n",
       "      <td>0</td>\n",
       "      <td>1</td>\n",
       "      <td>1</td>\n",
       "    </tr>\n",
       "    <tr>\n",
       "      <th>1</th>\n",
       "      <td>37</td>\n",
       "      <td>1</td>\n",
       "      <td>2</td>\n",
       "      <td>130</td>\n",
       "      <td>250</td>\n",
       "      <td>0</td>\n",
       "      <td>1</td>\n",
       "      <td>187</td>\n",
       "      <td>0</td>\n",
       "      <td>3.5</td>\n",
       "      <td>0</td>\n",
       "      <td>0</td>\n",
       "      <td>2</td>\n",
       "      <td>1</td>\n",
       "    </tr>\n",
       "    <tr>\n",
       "      <th>2</th>\n",
       "      <td>41</td>\n",
       "      <td>0</td>\n",
       "      <td>1</td>\n",
       "      <td>130</td>\n",
       "      <td>204</td>\n",
       "      <td>0</td>\n",
       "      <td>0</td>\n",
       "      <td>172</td>\n",
       "      <td>0</td>\n",
       "      <td>1.4</td>\n",
       "      <td>2</td>\n",
       "      <td>0</td>\n",
       "      <td>2</td>\n",
       "      <td>1</td>\n",
       "    </tr>\n",
       "    <tr>\n",
       "      <th>3</th>\n",
       "      <td>56</td>\n",
       "      <td>1</td>\n",
       "      <td>1</td>\n",
       "      <td>120</td>\n",
       "      <td>236</td>\n",
       "      <td>0</td>\n",
       "      <td>1</td>\n",
       "      <td>178</td>\n",
       "      <td>0</td>\n",
       "      <td>0.8</td>\n",
       "      <td>2</td>\n",
       "      <td>0</td>\n",
       "      <td>2</td>\n",
       "      <td>1</td>\n",
       "    </tr>\n",
       "    <tr>\n",
       "      <th>4</th>\n",
       "      <td>57</td>\n",
       "      <td>0</td>\n",
       "      <td>0</td>\n",
       "      <td>120</td>\n",
       "      <td>354</td>\n",
       "      <td>0</td>\n",
       "      <td>1</td>\n",
       "      <td>163</td>\n",
       "      <td>1</td>\n",
       "      <td>0.6</td>\n",
       "      <td>2</td>\n",
       "      <td>0</td>\n",
       "      <td>2</td>\n",
       "      <td>1</td>\n",
       "    </tr>\n",
       "  </tbody>\n",
       "</table>\n",
       "</div>"
      ],
      "text/plain": [
       "   age  sex  cp  trtbps  chol  fbs  restecg  thalachh  exng  oldpeak  slp  \\\n",
       "0   63    1   3     145   233    1        0       150     0      2.3    0   \n",
       "1   37    1   2     130   250    0        1       187     0      3.5    0   \n",
       "2   41    0   1     130   204    0        0       172     0      1.4    2   \n",
       "3   56    1   1     120   236    0        1       178     0      0.8    2   \n",
       "4   57    0   0     120   354    0        1       163     1      0.6    2   \n",
       "\n",
       "   caa  thall  output  \n",
       "0    0      1       1  \n",
       "1    0      2       1  \n",
       "2    0      2       1  \n",
       "3    0      2       1  \n",
       "4    0      2       1  "
      ]
     },
     "execution_count": 2,
     "metadata": {},
     "output_type": "execute_result"
    }
   ],
   "source": [
    "#heart_df = pd.read_csv(os.path.join(os.getcwd(), \"data\", \"heart.csv\"))\n",
    "heart_df = pd.read_csv(\".\\data\\heart.csv\")\n",
    "heart_df.head()"
   ]
  },
  {
   "cell_type": "markdown",
   "id": "d5e1ae08",
   "metadata": {
    "variables": {
     "heart_df.shape[0]": "303",
     "heart_df.shape[1]": "14"
    }
   },
   "source": [
    "This dataset has {{heart_df.shape[0]}} observations and {{heart_df.shape[1]}} variables. "
   ]
  },
  {
   "cell_type": "code",
   "execution_count": 3,
   "id": "6a4235d0",
   "metadata": {},
   "outputs": [
    {
     "data": {
      "text/plain": [
       "age         0\n",
       "sex         0\n",
       "cp          0\n",
       "trtbps      0\n",
       "chol        0\n",
       "fbs         0\n",
       "restecg     0\n",
       "thalachh    0\n",
       "exng        0\n",
       "oldpeak     0\n",
       "slp         0\n",
       "caa         0\n",
       "thall       0\n",
       "output      0\n",
       "dtype: int64"
      ]
     },
     "execution_count": 3,
     "metadata": {},
     "output_type": "execute_result"
    }
   ],
   "source": [
    "# Checking for any rows with NA values\n",
    "heart_df.isna().sum()"
   ]
  },
  {
   "cell_type": "code",
   "execution_count": 13,
   "id": "4840d0cc",
   "metadata": {},
   "outputs": [
    {
     "data": {
      "text/plain": [
       "age           int64\n",
       "sex           int64\n",
       "cp            int64\n",
       "trtbps        int64\n",
       "chol          int64\n",
       "fbs           int64\n",
       "restecg       int64\n",
       "thalachh      int64\n",
       "exng          int64\n",
       "oldpeak     float64\n",
       "slp           int64\n",
       "caa           int64\n",
       "thall         int64\n",
       "output        int64\n",
       "dtype: object"
      ]
     },
     "execution_count": 13,
     "metadata": {},
     "output_type": "execute_result"
    }
   ],
   "source": [
    "# Viewing the data types for each columns \n",
    "heart_df.dtypes\n",
    "\n"
   ]
  },
  {
   "cell_type": "markdown",
   "id": "30f2ca9e",
   "metadata": {},
   "source": [
    "The data consists entirely of floats or integers which is not an issue for when it comes to exploratory data analysis, cleaning and modelling. No further processing is needed at this stage"
   ]
  },
  {
   "cell_type": "code",
   "execution_count": 5,
   "id": "e215d2db",
   "metadata": {},
   "outputs": [
    {
     "data": {
      "text/html": [
       "<div>\n",
       "<style scoped>\n",
       "    .dataframe tbody tr th:only-of-type {\n",
       "        vertical-align: middle;\n",
       "    }\n",
       "\n",
       "    .dataframe tbody tr th {\n",
       "        vertical-align: top;\n",
       "    }\n",
       "\n",
       "    .dataframe thead th {\n",
       "        text-align: right;\n",
       "    }\n",
       "</style>\n",
       "<table border=\"1\" class=\"dataframe\">\n",
       "  <thead>\n",
       "    <tr style=\"text-align: right;\">\n",
       "      <th></th>\n",
       "      <th>age</th>\n",
       "      <th>sex</th>\n",
       "      <th>cp</th>\n",
       "      <th>trtbps</th>\n",
       "      <th>chol</th>\n",
       "      <th>fbs</th>\n",
       "      <th>restecg</th>\n",
       "      <th>thalachh</th>\n",
       "      <th>exng</th>\n",
       "      <th>oldpeak</th>\n",
       "      <th>slp</th>\n",
       "      <th>caa</th>\n",
       "      <th>thall</th>\n",
       "      <th>output</th>\n",
       "    </tr>\n",
       "  </thead>\n",
       "  <tbody>\n",
       "    <tr>\n",
       "      <th>count</th>\n",
       "      <td>303.000000</td>\n",
       "      <td>303.000000</td>\n",
       "      <td>303.000000</td>\n",
       "      <td>303.000000</td>\n",
       "      <td>303.000000</td>\n",
       "      <td>303.000000</td>\n",
       "      <td>303.000000</td>\n",
       "      <td>303.000000</td>\n",
       "      <td>303.000000</td>\n",
       "      <td>303.000000</td>\n",
       "      <td>303.000000</td>\n",
       "      <td>303.000000</td>\n",
       "      <td>303.000000</td>\n",
       "      <td>303.000000</td>\n",
       "    </tr>\n",
       "    <tr>\n",
       "      <th>mean</th>\n",
       "      <td>54.366337</td>\n",
       "      <td>0.683168</td>\n",
       "      <td>0.966997</td>\n",
       "      <td>131.623762</td>\n",
       "      <td>246.264026</td>\n",
       "      <td>0.148515</td>\n",
       "      <td>0.528053</td>\n",
       "      <td>149.646865</td>\n",
       "      <td>0.326733</td>\n",
       "      <td>1.039604</td>\n",
       "      <td>1.399340</td>\n",
       "      <td>0.729373</td>\n",
       "      <td>2.313531</td>\n",
       "      <td>0.544554</td>\n",
       "    </tr>\n",
       "    <tr>\n",
       "      <th>std</th>\n",
       "      <td>9.082101</td>\n",
       "      <td>0.466011</td>\n",
       "      <td>1.032052</td>\n",
       "      <td>17.538143</td>\n",
       "      <td>51.830751</td>\n",
       "      <td>0.356198</td>\n",
       "      <td>0.525860</td>\n",
       "      <td>22.905161</td>\n",
       "      <td>0.469794</td>\n",
       "      <td>1.161075</td>\n",
       "      <td>0.616226</td>\n",
       "      <td>1.022606</td>\n",
       "      <td>0.612277</td>\n",
       "      <td>0.498835</td>\n",
       "    </tr>\n",
       "    <tr>\n",
       "      <th>min</th>\n",
       "      <td>29.000000</td>\n",
       "      <td>0.000000</td>\n",
       "      <td>0.000000</td>\n",
       "      <td>94.000000</td>\n",
       "      <td>126.000000</td>\n",
       "      <td>0.000000</td>\n",
       "      <td>0.000000</td>\n",
       "      <td>71.000000</td>\n",
       "      <td>0.000000</td>\n",
       "      <td>0.000000</td>\n",
       "      <td>0.000000</td>\n",
       "      <td>0.000000</td>\n",
       "      <td>0.000000</td>\n",
       "      <td>0.000000</td>\n",
       "    </tr>\n",
       "    <tr>\n",
       "      <th>25%</th>\n",
       "      <td>47.500000</td>\n",
       "      <td>0.000000</td>\n",
       "      <td>0.000000</td>\n",
       "      <td>120.000000</td>\n",
       "      <td>211.000000</td>\n",
       "      <td>0.000000</td>\n",
       "      <td>0.000000</td>\n",
       "      <td>133.500000</td>\n",
       "      <td>0.000000</td>\n",
       "      <td>0.000000</td>\n",
       "      <td>1.000000</td>\n",
       "      <td>0.000000</td>\n",
       "      <td>2.000000</td>\n",
       "      <td>0.000000</td>\n",
       "    </tr>\n",
       "    <tr>\n",
       "      <th>50%</th>\n",
       "      <td>55.000000</td>\n",
       "      <td>1.000000</td>\n",
       "      <td>1.000000</td>\n",
       "      <td>130.000000</td>\n",
       "      <td>240.000000</td>\n",
       "      <td>0.000000</td>\n",
       "      <td>1.000000</td>\n",
       "      <td>153.000000</td>\n",
       "      <td>0.000000</td>\n",
       "      <td>0.800000</td>\n",
       "      <td>1.000000</td>\n",
       "      <td>0.000000</td>\n",
       "      <td>2.000000</td>\n",
       "      <td>1.000000</td>\n",
       "    </tr>\n",
       "    <tr>\n",
       "      <th>75%</th>\n",
       "      <td>61.000000</td>\n",
       "      <td>1.000000</td>\n",
       "      <td>2.000000</td>\n",
       "      <td>140.000000</td>\n",
       "      <td>274.500000</td>\n",
       "      <td>0.000000</td>\n",
       "      <td>1.000000</td>\n",
       "      <td>166.000000</td>\n",
       "      <td>1.000000</td>\n",
       "      <td>1.600000</td>\n",
       "      <td>2.000000</td>\n",
       "      <td>1.000000</td>\n",
       "      <td>3.000000</td>\n",
       "      <td>1.000000</td>\n",
       "    </tr>\n",
       "    <tr>\n",
       "      <th>max</th>\n",
       "      <td>77.000000</td>\n",
       "      <td>1.000000</td>\n",
       "      <td>3.000000</td>\n",
       "      <td>200.000000</td>\n",
       "      <td>564.000000</td>\n",
       "      <td>1.000000</td>\n",
       "      <td>2.000000</td>\n",
       "      <td>202.000000</td>\n",
       "      <td>1.000000</td>\n",
       "      <td>6.200000</td>\n",
       "      <td>2.000000</td>\n",
       "      <td>4.000000</td>\n",
       "      <td>3.000000</td>\n",
       "      <td>1.000000</td>\n",
       "    </tr>\n",
       "  </tbody>\n",
       "</table>\n",
       "</div>"
      ],
      "text/plain": [
       "              age         sex          cp      trtbps        chol         fbs  \\\n",
       "count  303.000000  303.000000  303.000000  303.000000  303.000000  303.000000   \n",
       "mean    54.366337    0.683168    0.966997  131.623762  246.264026    0.148515   \n",
       "std      9.082101    0.466011    1.032052   17.538143   51.830751    0.356198   \n",
       "min     29.000000    0.000000    0.000000   94.000000  126.000000    0.000000   \n",
       "25%     47.500000    0.000000    0.000000  120.000000  211.000000    0.000000   \n",
       "50%     55.000000    1.000000    1.000000  130.000000  240.000000    0.000000   \n",
       "75%     61.000000    1.000000    2.000000  140.000000  274.500000    0.000000   \n",
       "max     77.000000    1.000000    3.000000  200.000000  564.000000    1.000000   \n",
       "\n",
       "          restecg    thalachh        exng     oldpeak         slp         caa  \\\n",
       "count  303.000000  303.000000  303.000000  303.000000  303.000000  303.000000   \n",
       "mean     0.528053  149.646865    0.326733    1.039604    1.399340    0.729373   \n",
       "std      0.525860   22.905161    0.469794    1.161075    0.616226    1.022606   \n",
       "min      0.000000   71.000000    0.000000    0.000000    0.000000    0.000000   \n",
       "25%      0.000000  133.500000    0.000000    0.000000    1.000000    0.000000   \n",
       "50%      1.000000  153.000000    0.000000    0.800000    1.000000    0.000000   \n",
       "75%      1.000000  166.000000    1.000000    1.600000    2.000000    1.000000   \n",
       "max      2.000000  202.000000    1.000000    6.200000    2.000000    4.000000   \n",
       "\n",
       "            thall      output  \n",
       "count  303.000000  303.000000  \n",
       "mean     2.313531    0.544554  \n",
       "std      0.612277    0.498835  \n",
       "min      0.000000    0.000000  \n",
       "25%      2.000000    0.000000  \n",
       "50%      2.000000    1.000000  \n",
       "75%      3.000000    1.000000  \n",
       "max      3.000000    1.000000  "
      ]
     },
     "execution_count": 5,
     "metadata": {},
     "output_type": "execute_result"
    }
   ],
   "source": [
    "# Summary statistics on the whole dataset to get a quick overview of the data. \n",
    "heart_df.describe()"
   ]
  },
  {
   "cell_type": "markdown",
   "id": "52b1c1d7",
   "metadata": {},
   "source": [
    "Initially while looking at the data at a very high level we can draw some very simple conclusions. \n",
    "It appears from this set of data the average male aged around 55 seem to experience a higher chance of suffering from a heart attack. Whilst this is a very simplistic view of the dataset I will be exploring this further with the use of some classifier models to predict whether a patient will have a higher chance of having a heart attack.\n",
    "\n",
    "There are a wide variety of feature variables in the data which will be used to predict the outcome or the target variable. \n",
    "Whilst there are a number of major factors contributing to a heart attack my initial assumptions are that the main feature variables that will be heavily reliant on predicting the outcome will be the following (in no particular order of importance):  \n",
    "-  chol\n",
    "-  trtbps\n",
    "-  oldpeak \n",
    "\n",
    "chol represents the cholesteral level in the patient. \n",
    "\n",
    "> When you have too much “bad” cholesterol in your body, it can start to pose a problem. It contributes to fatty deposits in the arteries called plaque, which can cause heart disease. \n",
    "When that plaque builds up, it makes it harder for blood to flow, and these deposits can eventually break and form a clot that leads to a heart attack.[<sup>1</sup>](#fn1)\n",
    "\n",
    "However there are some alternative sources which contradict a common understanding that cholesterol leads to heart attacks, this article suggests that in a peer reviewed journal written in 2013 that looking at just cholesterol is not enough to determine a heart attack eventhood.[<sup>2</sup>](#fn2)\n",
    "\n",
    "As I suggested previously there are a number of variables that combine and contribute to a likelyhood of a heart attack happening which brings me onto the next variable I predict will also be an important variable in the model. \n",
    "\n",
    "trtbps is the resting blood pressure in the patient. \n",
    "\n",
    ">In most cases, damage done from high blood pressure (HBP or hypertension) occurs over time. Left undetected or uncontrolled, high blood pressure can lead to:  \n",
    ">Heart attack — High blood pressure damages arteries that can become blocked and prevent blood flow to the heart muscle.[<sup>3</sup>](#fn3)\n",
    "\n",
    "\n",
    "The important thing to note here is that widely known and described in the article - high blood pressure can contribute to heart attacks but usually over a period of time rather than a sudden change in blood pressure.  \n",
    "\n",
    "\n",
    "The next variable I think will be one main determining factor is caa which represents the number of the major vessels that are blocked by atherosclerosis. \n",
    "\n",
    ">Coronary heart disease (CHD) is the leading cause of heart attacks. CHD is a condition in which the coronary arteries (the major blood vessels that supply the heart with blood) become clogged with deposits of cholesterol. These deposits are called plaques.\n",
    ">Before a heart attack, one of the plaques ruptures (bursts), causing a blood clot to form at the site of the rupture. The clot may block the supply of blood to the heart, triggering a heart attack.[<sup>4</sup>](#fn4)\n"
   ]
  },
  {
   "cell_type": "markdown",
   "id": "a2f9e93a",
   "metadata": {},
   "source": [
    "#### Correlation Matrix and Plot"
   ]
  },
  {
   "cell_type": "code",
   "execution_count": 33,
   "id": "8e9214f0",
   "metadata": {},
   "outputs": [
    {
     "data": {
      "text/html": [
       "<div>\n",
       "<style scoped>\n",
       "    .dataframe tbody tr th:only-of-type {\n",
       "        vertical-align: middle;\n",
       "    }\n",
       "\n",
       "    .dataframe tbody tr th {\n",
       "        vertical-align: top;\n",
       "    }\n",
       "\n",
       "    .dataframe thead th {\n",
       "        text-align: right;\n",
       "    }\n",
       "</style>\n",
       "<table border=\"1\" class=\"dataframe\">\n",
       "  <thead>\n",
       "    <tr style=\"text-align: right;\">\n",
       "      <th></th>\n",
       "      <th>age</th>\n",
       "      <th>trtbps</th>\n",
       "      <th>chol</th>\n",
       "      <th>thalachh</th>\n",
       "      <th>oldpeak</th>\n",
       "    </tr>\n",
       "  </thead>\n",
       "  <tbody>\n",
       "    <tr>\n",
       "      <th>age</th>\n",
       "      <td>1.000000</td>\n",
       "      <td>0.279351</td>\n",
       "      <td>0.213678</td>\n",
       "      <td>-0.398522</td>\n",
       "      <td>0.210013</td>\n",
       "    </tr>\n",
       "    <tr>\n",
       "      <th>trtbps</th>\n",
       "      <td>0.279351</td>\n",
       "      <td>1.000000</td>\n",
       "      <td>0.123174</td>\n",
       "      <td>-0.046698</td>\n",
       "      <td>0.193216</td>\n",
       "    </tr>\n",
       "    <tr>\n",
       "      <th>chol</th>\n",
       "      <td>0.213678</td>\n",
       "      <td>0.123174</td>\n",
       "      <td>1.000000</td>\n",
       "      <td>-0.009940</td>\n",
       "      <td>0.053952</td>\n",
       "    </tr>\n",
       "    <tr>\n",
       "      <th>thalachh</th>\n",
       "      <td>-0.398522</td>\n",
       "      <td>-0.046698</td>\n",
       "      <td>-0.009940</td>\n",
       "      <td>1.000000</td>\n",
       "      <td>-0.344187</td>\n",
       "    </tr>\n",
       "    <tr>\n",
       "      <th>oldpeak</th>\n",
       "      <td>0.210013</td>\n",
       "      <td>0.193216</td>\n",
       "      <td>0.053952</td>\n",
       "      <td>-0.344187</td>\n",
       "      <td>1.000000</td>\n",
       "    </tr>\n",
       "  </tbody>\n",
       "</table>\n",
       "</div>"
      ],
      "text/plain": [
       "               age    trtbps      chol  thalachh   oldpeak\n",
       "age       1.000000  0.279351  0.213678 -0.398522  0.210013\n",
       "trtbps    0.279351  1.000000  0.123174 -0.046698  0.193216\n",
       "chol      0.213678  0.123174  1.000000 -0.009940  0.053952\n",
       "thalachh -0.398522 -0.046698 -0.009940  1.000000 -0.344187\n",
       "oldpeak   0.210013  0.193216  0.053952 -0.344187  1.000000"
      ]
     },
     "execution_count": 33,
     "metadata": {},
     "output_type": "execute_result"
    }
   ],
   "source": [
    "# Correlation matrix \n",
    "\n",
    "## Keeping only continuos variables \n",
    "continuous_cols = [\"age\",\"trtbps\",\"chol\",\"thalachh\",\"oldpeak\"]\n",
    "c_matrix = heart_df[continuous_cols].corr()\n",
    "c_matrix"
   ]
  },
  {
   "cell_type": "code",
   "execution_count": 34,
   "id": "27d47925",
   "metadata": {},
   "outputs": [
    {
     "data": {
      "image/png": "[encoded data removed]",
      "text/plain": [
       "<Figure size 1440x1080 with 2 Axes>"
      ]
     },
     "metadata": {
      "needs_background": "light"
     },
     "output_type": "display_data"
    }
   ],
   "source": [
    "# Visualising the correlation matrix using a heatmap\n",
    "\n",
    "fig, ax = plt.subplots(figsize = (20,15))\n",
    "sns.heatmap(c_matrix, square = True, cmap = 'Blues');"
   ]
  },
  {
   "cell_type": "markdown",
   "id": "4b52d1cb",
   "metadata": {},
   "source": [
    "From the correlation matrix above looking at the output column the darker blue squares indicate where we might see a positive correlation between those variables and the output (chance of a heart attack). So from this graphic its easy to pick out age, trtbps, oldpeak and chol as the variables which indicate the highest positive correlation with the output.  \n",
    "\n",
    "This supports the initial predictions I made earlier of chol, trtbps and oldpeak which I predicted would contribute the most towards the outcome. However it should be noted this correlation matrix is only showing relationships between variables rather than the ultimate outcome. It is therefore highly likely that these variables contribute together towards the heart attack outcome. "
   ]
  },
  {
   "cell_type": "code",
   "execution_count": 55,
   "id": "0db9c962",
   "metadata": {},
   "outputs": [
    {
     "data": {
      "image/png": "[encoded data removed]",
      "text/plain": [
       "<Figure size 1800x720 with 4 Axes>"
      ]
     },
     "metadata": {
      "needs_background": "light"
     },
     "output_type": "display_data"
    }
   ],
   "source": [
    "\n",
    "# Setting chart setting variables to be used throughout all charts\n",
    "font = 'arial'\n",
    "font_weight = 'bold'\n",
    "ax_fontsize = '14'\n",
    "\n",
    "# Splitting into two dataframes based on the outcome\n",
    "heart_outcome, heart_nooutcome = [x for _, x in heart_df[continuous_cols].groupby(heart_df['output'])]\n",
    "\n",
    "# Plotting two correlation matrix for each dataframe to compare.\n",
    "fig, (ax1, ax2) = plt.subplots(ncols = 2, sharey = True, figsize = (25, 10))\n",
    "sns.heatmap(heart_outcome.corr(), square = True, cmap = 'Blues', ax = ax1)\n",
    "sns.heatmap(heart_nooutcome.corr(), square = True, cmap = 'Blues', ax = ax2)\n",
    "\n",
    "ax1.set_title(\"Heart Attack\", font = font, fontsize = ax_fontsize, fontweight = font_weight)\n",
    "ax2.set_title(\"No Heart Attack\", font = font, fontsize = ax_fontsize, fontweight = font_weight);"
   ]
  },
  {
   "cell_type": "markdown",
   "id": "62732e6a",
   "metadata": {},
   "source": [
    "When we plot the correlation matrix after splitting the dataset by the outcome we can see with the Heart Attack matrix that there is not one clear stand out relationship between any variables in individuals who experienced a heart attack. This further reinforces the point made previously that it is highly likely that a combination of factors lead to a heart attack."
   ]
  },
  {
   "cell_type": "markdown",
   "id": "1acf9f50",
   "metadata": {},
   "source": [
    "#### Box Plot"
   ]
  },
  {
   "cell_type": "code",
   "execution_count": 6,
   "id": "c9fde5fe",
   "metadata": {
    "scrolled": false
   },
   "outputs": [
    {
     "data": {
      "image/png": "[encoded data removed]",
      "text/plain": [
       "<Figure size 1296x1152 with 6 Axes>"
      ]
     },
     "metadata": {},
     "output_type": "display_data"
    }
   ],
   "source": [
    "### Some exploratory visualisations\n",
    "\n",
    "### Box plot of continuous variables \n",
    "\n",
    "fig = plt.figure(figsize=(18,16))\n",
    "gs = fig.add_gridspec(2,3)\n",
    "gs.update(wspace=0.3, hspace=0.15)\n",
    "ax0 = fig.add_subplot(gs[0,0])\n",
    "ax1 = fig.add_subplot(gs[0,1])\n",
    "ax2 = fig.add_subplot(gs[0,2])\n",
    "ax3 = fig.add_subplot(gs[1,0])\n",
    "ax4 = fig.add_subplot(gs[1,1])\n",
    "ax5 = fig.add_subplot(gs[1,2])\n",
    "\n",
    "background_colour = \"#94D2BD\"\n",
    "colour_palette = [\"#08acec\",\"#005F73\",\"#0A9396\",\"#E9D8A6\",\"#EE9B00\"]\n",
    "fig.patch.set_facecolor(background_colour) \n",
    "ax0.set_facecolor(background_colour) \n",
    "ax1.set_facecolor(background_colour) \n",
    "ax2.set_facecolor(background_colour) \n",
    "ax3.set_facecolor(background_colour) \n",
    "ax4.set_facecolor(background_colour) \n",
    "ax5.set_facecolor(background_colour) \n",
    "\n",
    "# Title of the plot\n",
    "ax0.spines[\"bottom\"].set_visible(False)\n",
    "ax0.spines[\"left\"].set_visible(False)\n",
    "ax0.spines[\"top\"].set_visible(False)\n",
    "ax0.spines[\"right\"].set_visible(False)\n",
    "ax0.tick_params(left=False, bottom=False)\n",
    "ax0.set_xticklabels([])\n",
    "ax0.set_yticklabels([])\n",
    "ax0.text(0.5,0.5,\n",
    "         'Box plot for each continuous feature\\n_________________',\n",
    "         horizontalalignment='center',\n",
    "         verticalalignment='center',\n",
    "         fontsize=18, fontweight = font_weight,\n",
    "         fontfamily = font,\n",
    "         color=\"#000000\")\n",
    "\n",
    "# Age \n",
    "ax1.set_title('Age', fontsize = ax_fontsize, fontweight = font_weight, fontfamily = font)\n",
    "ax1.grid(color='#000000', linestyle=':', axis='y', zorder=0,  dashes=(1,5))\n",
    "sns.boxenplot(ax=ax1,y=heart_df['age'],palette=[colour_palette[0]],width=0.6)\n",
    "ax1.set_xlabel(\"\")\n",
    "ax1.set_ylabel(\"\")\n",
    "\n",
    "\n",
    "# Trtbps \n",
    "ax2.set_title('Trtbps', fontsize = ax_fontsize, fontweight = font_weight, fontfamily = font)\n",
    "ax2.grid(color='#000000', linestyle=':', axis='y', zorder=0,  dashes=(1,5))\n",
    "sns.boxenplot(ax=ax2,y=heart_df['trtbps'],palette=[colour_palette[1]],width=0.6)\n",
    "ax2.set_xlabel(\"\")\n",
    "ax2.set_ylabel(\"\")\n",
    "\n",
    "# Chol \n",
    "ax3.set_title('Chol', fontsize = ax_fontsize, fontweight = font_weight, fontfamily = font)\n",
    "ax3.grid(color='#000000', linestyle=':', axis='y', zorder=0,  dashes=(1,5))\n",
    "sns.boxenplot(ax=ax3,y=heart_df['chol'],palette=[colour_palette[2]],width=0.6)\n",
    "ax3.set_xlabel(\"\")\n",
    "ax3.set_ylabel(\"\")\n",
    "\n",
    "# Thalachh \n",
    "ax4.set_title('Thalachh', fontsize = ax_fontsize, fontweight = font_weight, fontfamily = font)\n",
    "ax4.grid(color='#000000', linestyle=':', axis='y', zorder=0,  dashes=(1,5))\n",
    "sns.boxenplot(ax=ax4,y=heart_df['thalachh'],palette=[colour_palette[3]],width=0.6)\n",
    "ax4.set_xlabel(\"\")\n",
    "ax4.set_ylabel(\"\")\n",
    "\n",
    "# oldpeak \n",
    "ax5.set_title('Oldpeak', fontsize = ax_fontsize, fontweight = font_weight, fontfamily = font)\n",
    "ax5.grid(color='#000000', linestyle=':', axis='y', zorder=0,  dashes=(1,5))\n",
    "sns.boxenplot(ax=ax5,y=heart_df['oldpeak'],palette=[colour_palette[4]],width=0.6)\n",
    "ax5.set_xlabel(\"\")\n",
    "ax5.set_ylabel(\"\")\n",
    "\n",
    "for s in [\"top\",\"right\",\"left\"]:\n",
    "    ax1.spines[s].set_visible(False)\n",
    "    ax2.spines[s].set_visible(False)\n",
    "    ax3.spines[s].set_visible(False)\n",
    "    ax4.spines[s].set_visible(False)\n",
    "    ax5.spines[s].set_visible(False);"
   ]
  },
  {
   "cell_type": "markdown",
   "id": "ed51b21c",
   "metadata": {},
   "source": [
    "#### Count Plot"
   ]
  },
  {
   "cell_type": "code",
   "execution_count": 7,
   "id": "57cdb656",
   "metadata": {},
   "outputs": [
    {
     "data": {
      "image/png": "[encoded data removed]",
      "text/plain": [
       "<Figure size 1296x1080 with 10 Axes>"
      ]
     },
     "metadata": {},
     "output_type": "display_data"
    }
   ],
   "source": [
    "## Count plot for categorical variables \n",
    "\n",
    "fig  =  plt.figure(figsize = (18,15))\n",
    "gs  =  fig.add_gridspec(5,2)\n",
    "gs.update(wspace = 0.5, hspace = 0.25)\n",
    "ax0  =  fig.add_subplot(gs[0,0])\n",
    "ax1  =  fig.add_subplot(gs[0,1])\n",
    "ax2  =  fig.add_subplot(gs[1,0])\n",
    "ax3  =  fig.add_subplot(gs[1,1])\n",
    "ax4  =  fig.add_subplot(gs[2,0])\n",
    "ax5  =  fig.add_subplot(gs[2,1])\n",
    "ax6  =  fig.add_subplot(gs[3,0])\n",
    "ax7  =  fig.add_subplot(gs[3,1])\n",
    "ax8  =  fig.add_subplot(gs[4,0])\n",
    "ax9  =  fig.add_subplot(gs[4,1])\n",
    "\n",
    "\n",
    "fig.patch.set_facecolor(background_colour) \n",
    "ax0.set_facecolor(background_colour) \n",
    "ax1.set_facecolor(background_colour) \n",
    "ax2.set_facecolor(background_colour) \n",
    "ax3.set_facecolor(background_colour) \n",
    "ax4.set_facecolor(background_colour) \n",
    "ax5.set_facecolor(background_colour) \n",
    "ax6.set_facecolor(background_colour) \n",
    "ax7.set_facecolor(background_colour) \n",
    "ax8.set_facecolor(background_colour) \n",
    "ax9.set_facecolor(background_colour)\n",
    "\n",
    "\n",
    "\n",
    "# Title of the plot\n",
    "ax0.spines[\"bottom\"].set_visible(False)\n",
    "ax0.spines[\"left\"].set_visible(False)\n",
    "ax0.spines[\"top\"].set_visible(False)\n",
    "ax0.spines[\"right\"].set_visible(False)\n",
    "ax0.tick_params(left = False, bottom = False)\n",
    "ax0.set_xticklabels([])\n",
    "ax0.set_yticklabels([])\n",
    "ax0.text(0.5,0.5,\n",
    "         'Count plot for various\\n categorical features\\n_________________',\n",
    "         horizontalalignment = 'center',\n",
    "         verticalalignment = 'center',\n",
    "         fontsize = 18, fontweight = 'bold',\n",
    "         fontfamily = 'serif',\n",
    "         color = \"#000000\")\n",
    "\n",
    "# Sex count\n",
    "ax1.set_title('Sex', fontsize  =  ax_fontsize, fontweight  =  font_weight, fontfamily  =  font)\n",
    "ax1.grid(color = '#000000', linestyle = ':', axis = 'y', zorder = 0,  dashes = (1,5))\n",
    "sns.countplot(ax = ax1,data = heart_df,x = 'sex',palette = colour_palette)\n",
    "ax1.set_xlabel(\"\")\n",
    "ax1.set_ylabel(\"\")\n",
    "\n",
    "# Exng count\n",
    "ax2.set_title('Exng', fontsize  =  ax_fontsize, fontweight  =  font_weight, fontfamily  =  font)\n",
    "ax2.grid(color = '#000000', linestyle = ':', axis = 'y', zorder = 0,  dashes = (1,5))\n",
    "sns.countplot(ax = ax2,data = heart_df,x = 'exng',palette = colour_palette)\n",
    "ax2.set_xlabel(\"\")\n",
    "ax2.set_ylabel(\"\")\n",
    "\n",
    "# Caa count\n",
    "ax3.set_title('Caa', fontsize  =  ax_fontsize, fontweight  =  font_weight, fontfamily  =  font)\n",
    "ax3.grid(color = '#000000', linestyle = ':', axis = 'y', zorder = 0,  dashes = (1,5))\n",
    "sns.countplot(ax = ax3,data = heart_df,x = 'caa',palette = colour_palette)\n",
    "ax3.set_xlabel(\"\")\n",
    "ax3.set_ylabel(\"\")\n",
    "\n",
    "# Cp count\n",
    "ax4.set_title('Cp', fontsize  =  ax_fontsize, fontweight  =  font_weight, fontfamily  =  font)\n",
    "ax4.grid(color  =  '#000000', linestyle = ':', axis = 'y', zorder = 0,  dashes = (1,5))\n",
    "sns.countplot(ax = ax4,data = heart_df,x = 'cp',palette = colour_palette)\n",
    "ax4.set_xlabel(\"\")\n",
    "ax4.set_ylabel(\"\")\n",
    "\n",
    "# Fbs count\n",
    "ax5.set_title('Fbs', fontsize = ax_fontsize, fontweight = font_weight, fontfamily = font)\n",
    "ax5.grid(color = '#000000', linestyle = ':', axis = 'y', zorder = 0, dashes = (1,5))\n",
    "sns.countplot(ax = ax5,data = heart_df,x = 'fbs',palette = colour_palette)\n",
    "ax5.set_xlabel(\"\")\n",
    "ax5.set_ylabel(\"\")\n",
    "\n",
    "# Restecg count\n",
    "ax6.set_title('Restecg', fontsize = ax_fontsize, fontweight = font_weight, fontfamily = font)\n",
    "ax6.grid(color = '#000000', linestyle = ':', axis = 'y', zorder = 0,  dashes = (1,5))\n",
    "sns.countplot(ax = ax6,data = heart_df,x = 'restecg',palette = colour_palette)\n",
    "ax6.set_xlabel(\"\")\n",
    "ax6.set_ylabel(\"\")\n",
    "\n",
    "# Slp count\n",
    "ax7.set_title('Slp', fontsize  =  ax_fontsize, fontweight  =  font_weight, fontfamily  =  font)\n",
    "ax7.grid(color = '#000000', linestyle = ':', axis = 'y', zorder = 0,  dashes = (1,5))\n",
    "sns.countplot(ax = ax7,data = heart_df,x = 'slp',palette = colour_palette)\n",
    "ax7.set_xlabel(\"\")\n",
    "ax7.set_ylabel(\"\")\n",
    "\n",
    "# Thall count\n",
    "ax8.set_title('Thall', fontsize  =  ax_fontsize, fontweight  =  font_weight, fontfamily  =  font)\n",
    "ax8.grid(color = '#000000', linestyle = ':', axis = 'y', zorder = 0,  dashes = (1,5))\n",
    "sns.countplot(ax = ax8,data = heart_df,x = 'thall',palette = colour_palette)\n",
    "ax8.set_xlabel(\"\")\n",
    "ax8.set_ylabel(\"\")\n",
    "\n",
    "\n",
    "# Output count \n",
    "ax9.set_title(\"Output\", fontsize = ax_fontsize, fontweight = font_weight, fontfamily = font)\n",
    "ax9.grid(color = \"#000000\", linestyle = \":\", axis = 'y', zorder = 0, dashes = (1,5))\n",
    "sns.countplot(ax = ax9, data = heart_df, x = 'output', palette = colour_palette)\n",
    "ax9.set_xlabel(\"\")\n",
    "ax9.set_ylabel(\"\")\n",
    "\n",
    "for s in [\"top\",\"right\",\"left\"]:\n",
    "    ax1.spines[s].set_visible(False)\n",
    "    ax2.spines[s].set_visible(False)\n",
    "    ax3.spines[s].set_visible(False)\n",
    "    ax4.spines[s].set_visible(False)\n",
    "    ax5.spines[s].set_visible(False)\n",
    "    ax6.spines[s].set_visible(False)\n",
    "    ax7.spines[s].set_visible(False)\n",
    "    ax8.spines[s].set_visible(False)\n",
    "    ax9.spines[s].set_visible(False)"
   ]
  },
  {
   "cell_type": "markdown",
   "id": "955a5346",
   "metadata": {},
   "source": [
    "#### Pair Plot"
   ]
  },
  {
   "cell_type": "code",
   "execution_count": null,
   "id": "2d5ca882",
   "metadata": {},
   "outputs": [],
   "source": []
  },
  {
   "cell_type": "markdown",
   "id": "4d18d834",
   "metadata": {},
   "source": [
    "### K-Nearest Neighbours (KNN) model"
   ]
  },
  {
   "cell_type": "code",
   "execution_count": 8,
   "id": "7006d8d1",
   "metadata": {},
   "outputs": [],
   "source": [
    "#Splitting our dataset into feature data (X) and target data (y). \n",
    "\n",
    "X = heart_df.drop('output', 1)\n",
    "y = heart_df[['output']]"
   ]
  },
  {
   "cell_type": "markdown",
   "id": "4e05efb6",
   "metadata": {},
   "source": [
    "#### Using 4 nearest neighbours as default"
   ]
  },
  {
   "cell_type": "code",
   "execution_count": 9,
   "id": "c88992d7",
   "metadata": {},
   "outputs": [],
   "source": [
    "# Creating the KNN model to use with n equal to 4 (chosen at random by default)\n",
    "# General rule for default n is to use odd n if no of variables is even and vice versa. \n",
    "# There are 13 features (odd) so will use n = 4\n",
    "knn = KNeighborsClassifier(n_neighbors=4)\n",
    "\n",
    "# Fitting the knn model with the feature and target data created previously\n",
    "knn.fit(X, np.ravel(y))\n",
    "\n",
    "# getting the predicition values for whole dataset using n=4 \n",
    "y_pred4 = knn.predict(X)\n",
    "\n",
    "# Check the accuracy score of using n=4 \n",
    "accuracy_score4 = round(metrics.accuracy_score(y, y_pred4), 2)\n"
   ]
  },
  {
   "cell_type": "markdown",
   "id": "aa2bd975",
   "metadata": {
    "variables": {
     "\"{:.2%}\".format(accuracy_score4)": "77.00%"
    }
   },
   "source": [
    "The accuracy score using n = 4 in this KNN model was {{\"{:.2%}\".format(accuracy_score4)}}. This is a slightly sub optimal score that I would be happy with using as the accuracy is an issue if we were to predict the output using this model.  \n",
    "For example if this model was used to predict a patients likelihood of a heart attack and the model predicted a 'low chance of heart attack' then we would not feel comfortable with this assessment and if used in the real world the advice given to the patient may be inaccurate and possibly fatal "
   ]
  },
  {
   "cell_type": "code",
   "execution_count": 28,
   "id": "18d447ab",
   "metadata": {},
   "outputs": [],
   "source": [
    "# testing out prediction using a random existing record from the dataset. \n",
    "# Using the first row in our dataset in the knn model it was able to predict the same outcome as in the original dataset. \n",
    "\n",
    "\n",
    "# However using the last row of the dataframe the model did not predict correctly. \n",
    "lastrow_predict = knn.predict(np.array(X.tail(1)))"
   ]
  },
  {
   "cell_type": "markdown",
   "id": "20cd59a0",
   "metadata": {
    "variables": {
     "heart_df['output'].tail(1).to_string(index=False)": "0",
     "lastrow_predict[0]": "1"
    }
   },
   "source": [
    "To illustrate the inaccuracy issue with the KNN model above we can see that the last row in the original dataset the output was {{heart_df['output'].tail(1).to_string(index=False)}} but the model predicted the outcome of {{lastrow_predict[0]}}."
   ]
  },
  {
   "cell_type": "markdown",
   "id": "713711a3",
   "metadata": {},
   "source": [
    "#### Finding the best value of K"
   ]
  },
  {
   "cell_type": "code",
   "execution_count": 30,
   "id": "1e65d3da",
   "metadata": {},
   "outputs": [
    {
     "name": "stdout",
     "output_type": "stream",
     "text": [
      "[1.0, 0.8151815181518152, 0.759075907590759, 0.7656765676567657, 0.7656765676567657, 0.7788778877887789, 0.7458745874587459, 0.735973597359736, 0.7425742574257426, 0.7227722772277227, 0.7260726072607261, 0.7128712871287128, 0.693069306930693, 0.7161716171617162, 0.6963696369636964, 0.7029702970297029, 0.6996699669966997, 0.693069306930693, 0.6897689768976898, 0.6864686468646864, 0.6897689768976898, 0.693069306930693, 0.6996699669966997, 0.6963696369636964]\n"
     ]
    }
   ],
   "source": [
    "k_range = range(1, 25)\n",
    "\n",
    "accuracy_scores = []\n",
    "\n",
    "for k in k_range:\n",
    "    knn = KNeighborsClassifier(n_neighbors = k)\n",
    "    knn.fit(X, np.ravel(y))\n",
    "    y_pred = knn.predict(X)\n",
    "    accuracy = metrics.accuracy_score(y, y_pred)\n",
    "    accuracy_scores.append(accuracy)\n",
    "    \n",
    "print(accuracy_scores)"
   ]
  },
  {
   "cell_type": "markdown",
   "id": "4afa3f6d",
   "metadata": {},
   "source": [
    "#### Accuracy scores plot"
   ]
  },
  {
   "cell_type": "code",
   "execution_count": 31,
   "id": "6875a7d0",
   "metadata": {},
   "outputs": [
    {
     "data": {
      "text/plain": [
       "[<matplotlib.lines.Line2D at 0x1a467c14610>]"
      ]
     },
     "execution_count": 31,
     "metadata": {},
     "output_type": "execute_result"
    },
    {
     "data": {
      "image/png": "[encoded data removed]",
      "text/plain": [
       "<Figure size 432x288 with 1 Axes>"
      ]
     },
     "metadata": {
      "needs_background": "light"
     },
     "output_type": "display_data"
    }
   ],
   "source": [
    "plt.plot(k_range, accuracy_scores)"
   ]
  },
  {
   "cell_type": "markdown",
   "id": "053ca435",
   "metadata": {},
   "source": [
    "Based on the chart above it is easy to see that the more neighbours we choose for predicting the output the worse the accuracy gets. The best accuracy is when we have a lower number of neighbours but we dont want to use these lower numbers as it means our model will be overfitting the data and will not perform well when introducing new datapoints "
   ]
  },
  {
   "cell_type": "markdown",
   "id": "0331f681",
   "metadata": {},
   "source": [
    "## References"
   ]
  },
  {
   "cell_type": "markdown",
   "id": "941bf8f8",
   "metadata": {},
   "source": [
    "<span id=\"fn1\"> [1: https://www.everydayhealth.com/heart-health/cholesterol-and-heart-attack-risk/](https://www.everydayhealth.com/heart-health/cholesterol-and-heart-attack-risk/) </span>  \n",
    "<span id=\"fn2\">[2: https://www.healthline.com/health-news/cholesterol-and-heart-attacks](https://www.healthline.com/health-news/cholesterol-and-heart-attacks) </span>  \n",
    "<span id=\"fn3\">[3: https://www.heart.org/en/health-topics/high-blood-pressure/health-threats-from-high-blood-pressure](https://www.heart.org/en/health-topics/high-blood-pressure/health-threats-from-high-blood-pressure)</span>  \n",
    "<span id=\"fn4\">[4: https://www.nhs.uk/conditions/heart-attack/causes/](https://www.nhs.uk/conditions/heart-attack/causes/)</span>"
   ]
  }
 ],
 "metadata": {
  "kernelspec": {
   "display_name": "env",
   "language": "python",
   "name": "env"
  },
  "language_info": {
   "codemirror_mode": {
    "name": "ipython",
    "version": 3
   },
   "file_extension": ".py",
   "mimetype": "text/x-python",
   "name": "python",
   "nbconvert_exporter": "python",
   "pygments_lexer": "ipython3",
   "version": "3.10.4"
  },
  "toc": {
   "base_numbering": 1,
   "nav_menu": {},
   "number_sections": true,
   "sideBar": true,
   "skip_h1_title": true,
   "title_cell": "Table of Contents",
   "title_sidebar": "Contents",
   "toc_cell": false,
   "toc_position": {},
   "toc_section_display": true,
   "toc_window_display": false
  },
  "varInspector": {
   "cols": {
    "lenName": 16,
    "lenType": 16,
    "lenVar": 40
   },
   "kernels_config": {
    "python": {
     "delete_cmd_postfix": "",
     "delete_cmd_prefix": "del ",
     "library": "var_list.py",
     "varRefreshCmd": "print(var_dic_list())"
    },
    "r": {
     "delete_cmd_postfix": ") ",
     "delete_cmd_prefix": "rm(",
     "library": "var_list.r",
     "varRefreshCmd": "cat(var_dic_list()) "
    }
   },
   "types_to_exclude": [
    "module",
    "function",
    "builtin_function_or_method",
    "instance",
    "_Feature"
   ],
   "window_display": false
  }
 },
 "nbformat": 4,
 "nbformat_minor": 5
}
