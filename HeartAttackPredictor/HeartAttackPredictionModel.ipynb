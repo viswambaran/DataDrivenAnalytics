{
 "cells": [
  {
   "cell_type": "markdown",
   "id": "4fa3168d",
   "metadata": {},
   "source": [
    "# Heart Attack Prediction Model\n"
   ]
  },
  {
   "cell_type": "markdown",
   "id": "f225a285",
   "metadata": {},
   "source": [
    "## Dataset preparation and summary"
   ]
  },
  {
   "cell_type": "markdown",
   "id": "e4faf14d",
   "metadata": {},
   "source": [
    "### Dataset information"
   ]
  },
  {
   "cell_type": "markdown",
   "id": "2e7d414a",
   "metadata": {},
   "source": [
    "-  Age : Age of the patient\n",
    "-  Sex : Sex of the patient\n",
    "-  exng: exercise induced angina (1 = yes; 0 = no)\n",
    "-  caa: number of major vessels (0-3)\n",
    "-  cp : Chest Pain type chest pain type\n",
    "    -  Value 1: typical angina\n",
    "    -  Value 2: atypical angina\n",
    "    -  Value 3: non-anginal pain\n",
    "    -  Value 0: asymptomatic\n",
    "-  trtbps : resting blood pressure (in mm Hg)\n",
    "-  chol : cholestoral in mg/dl fetched via BMI sensor\n",
    "-  fbs : (fasting blood sugar > 120 mg/dl) (1 = true; 0 = false)\n",
    "-  restecg : resting electrocardiographic results\n",
    "    -  Value 0: normal\n",
    "    -  Value 1: having ST-T wave abnormality (T wave inversions and/or ST elevation or depression of > 0.05 mV)\n",
    "    -  Value 2: showing probable or definite left ventricular hypertrophy by Estes' criteria\n",
    "-  thalachh : maximum heart rate achieved\n",
    "-  oldpeak : ST depression induced by exercise relative to rest\n",
    "-  slp  : the slope of the peak exercise ST segment \n",
    "    -  Value 0: downsloping\n",
    "    -  Value 1: flat\n",
    "    -  Value 2: downsloping\n",
    "-  thall : \n",
    "    -  Value 1: fixed defect \n",
    "    -  Value 2: normal\n",
    "    -  Value 3: reversible defect\n",
    "-  output : 0= less chance of heart attack 1= more chance of heart attack"
   ]
  },
  {
   "cell_type": "markdown",
   "id": "f8d62e1c",
   "metadata": {},
   "source": [
    "### Packages"
   ]
  },
  {
   "cell_type": "code",
   "execution_count": 1,
   "id": "2acfae96",
   "metadata": {},
   "outputs": [],
   "source": [
    "import pandas as pd \n",
    "import os \n",
    "import numpy as np \n",
    "import seaborn as sns\n",
    "import matplotlib.pyplot as plt\n",
    "from sklearn.neighbors import KNeighborsClassifier"
   ]
  },
  {
   "cell_type": "markdown",
   "id": "7dba50a9",
   "metadata": {},
   "source": [
    "### Dataset exploration"
   ]
  },
  {
   "cell_type": "code",
   "execution_count": 2,
   "id": "8f8b59f9",
   "metadata": {},
   "outputs": [
    {
     "data": {
      "text/html": [
       "<div>\n",
       "<style scoped>\n",
       "    .dataframe tbody tr th:only-of-type {\n",
       "        vertical-align: middle;\n",
       "    }\n",
       "\n",
       "    .dataframe tbody tr th {\n",
       "        vertical-align: top;\n",
       "    }\n",
       "\n",
       "    .dataframe thead th {\n",
       "        text-align: right;\n",
       "    }\n",
       "</style>\n",
       "<table border=\"1\" class=\"dataframe\">\n",
       "  <thead>\n",
       "    <tr style=\"text-align: right;\">\n",
       "      <th></th>\n",
       "      <th>age</th>\n",
       "      <th>sex</th>\n",
       "      <th>cp</th>\n",
       "      <th>trtbps</th>\n",
       "      <th>chol</th>\n",
       "      <th>fbs</th>\n",
       "      <th>restecg</th>\n",
       "      <th>thalachh</th>\n",
       "      <th>exng</th>\n",
       "      <th>oldpeak</th>\n",
       "      <th>slp</th>\n",
       "      <th>caa</th>\n",
       "      <th>thall</th>\n",
       "      <th>output</th>\n",
       "    </tr>\n",
       "  </thead>\n",
       "  <tbody>\n",
       "    <tr>\n",
       "      <th>0</th>\n",
       "      <td>63</td>\n",
       "      <td>1</td>\n",
       "      <td>3</td>\n",
       "      <td>145</td>\n",
       "      <td>233</td>\n",
       "      <td>1</td>\n",
       "      <td>0</td>\n",
       "      <td>150</td>\n",
       "      <td>0</td>\n",
       "      <td>2.3</td>\n",
       "      <td>0</td>\n",
       "      <td>0</td>\n",
       "      <td>1</td>\n",
       "      <td>1</td>\n",
       "    </tr>\n",
       "    <tr>\n",
       "      <th>1</th>\n",
       "      <td>37</td>\n",
       "      <td>1</td>\n",
       "      <td>2</td>\n",
       "      <td>130</td>\n",
       "      <td>250</td>\n",
       "      <td>0</td>\n",
       "      <td>1</td>\n",
       "      <td>187</td>\n",
       "      <td>0</td>\n",
       "      <td>3.5</td>\n",
       "      <td>0</td>\n",
       "      <td>0</td>\n",
       "      <td>2</td>\n",
       "      <td>1</td>\n",
       "    </tr>\n",
       "    <tr>\n",
       "      <th>2</th>\n",
       "      <td>41</td>\n",
       "      <td>0</td>\n",
       "      <td>1</td>\n",
       "      <td>130</td>\n",
       "      <td>204</td>\n",
       "      <td>0</td>\n",
       "      <td>0</td>\n",
       "      <td>172</td>\n",
       "      <td>0</td>\n",
       "      <td>1.4</td>\n",
       "      <td>2</td>\n",
       "      <td>0</td>\n",
       "      <td>2</td>\n",
       "      <td>1</td>\n",
       "    </tr>\n",
       "    <tr>\n",
       "      <th>3</th>\n",
       "      <td>56</td>\n",
       "      <td>1</td>\n",
       "      <td>1</td>\n",
       "      <td>120</td>\n",
       "      <td>236</td>\n",
       "      <td>0</td>\n",
       "      <td>1</td>\n",
       "      <td>178</td>\n",
       "      <td>0</td>\n",
       "      <td>0.8</td>\n",
       "      <td>2</td>\n",
       "      <td>0</td>\n",
       "      <td>2</td>\n",
       "      <td>1</td>\n",
       "    </tr>\n",
       "    <tr>\n",
       "      <th>4</th>\n",
       "      <td>57</td>\n",
       "      <td>0</td>\n",
       "      <td>0</td>\n",
       "      <td>120</td>\n",
       "      <td>354</td>\n",
       "      <td>0</td>\n",
       "      <td>1</td>\n",
       "      <td>163</td>\n",
       "      <td>1</td>\n",
       "      <td>0.6</td>\n",
       "      <td>2</td>\n",
       "      <td>0</td>\n",
       "      <td>2</td>\n",
       "      <td>1</td>\n",
       "    </tr>\n",
       "  </tbody>\n",
       "</table>\n",
       "</div>"
      ],
      "text/plain": [
       "   age  sex  cp  trtbps  chol  fbs  restecg  thalachh  exng  oldpeak  slp  \\\n",
       "0   63    1   3     145   233    1        0       150     0      2.3    0   \n",
       "1   37    1   2     130   250    0        1       187     0      3.5    0   \n",
       "2   41    0   1     130   204    0        0       172     0      1.4    2   \n",
       "3   56    1   1     120   236    0        1       178     0      0.8    2   \n",
       "4   57    0   0     120   354    0        1       163     1      0.6    2   \n",
       "\n",
       "   caa  thall  output  \n",
       "0    0      1       1  \n",
       "1    0      2       1  \n",
       "2    0      2       1  \n",
       "3    0      2       1  \n",
       "4    0      2       1  "
      ]
     },
     "execution_count": 2,
     "metadata": {},
     "output_type": "execute_result"
    }
   ],
   "source": [
    "#heart_df = pd.read_csv(os.path.join(os.getcwd(), \"data\", \"heart.csv\"))\n",
    "heart_df = pd.read_csv(\".\\data\\heart.csv\")\n",
    "heart_df.head()"
   ]
  },
  {
   "cell_type": "markdown",
   "id": "d5e1ae08",
   "metadata": {
    "variables": {
     "heart_df.shape[0]": "303",
     "heart_df.shape[1]": "14"
    }
   },
   "source": [
    "This dataset has {{heart_df.shape[0]}} observations and {{heart_df.shape[1]}} variables."
   ]
  },
  {
   "cell_type": "code",
   "execution_count": 3,
   "id": "6a4235d0",
   "metadata": {},
   "outputs": [
    {
     "data": {
      "text/plain": [
       "age         0\n",
       "sex         0\n",
       "cp          0\n",
       "trtbps      0\n",
       "chol        0\n",
       "fbs         0\n",
       "restecg     0\n",
       "thalachh    0\n",
       "exng        0\n",
       "oldpeak     0\n",
       "slp         0\n",
       "caa         0\n",
       "thall       0\n",
       "output      0\n",
       "dtype: int64"
      ]
     },
     "execution_count": 3,
     "metadata": {},
     "output_type": "execute_result"
    }
   ],
   "source": [
    "# Checking for any rows with NA values\n",
    "heart_df.isna().sum()"
   ]
  },
  {
   "cell_type": "code",
   "execution_count": 4,
   "id": "4840d0cc",
   "metadata": {},
   "outputs": [
    {
     "data": {
      "text/plain": [
       "sex  age\n",
       "1    58     13\n",
       "     57     13\n",
       "     59     13\n",
       "     52     12\n",
       "     54     11\n",
       "            ..\n",
       "0    59      1\n",
       "     52      1\n",
       "     48      1\n",
       "     37      1\n",
       "1    77      1\n",
       "Length: 73, dtype: int64"
      ]
     },
     "execution_count": 4,
     "metadata": {},
     "output_type": "execute_result"
    }
   ],
   "source": [
    "# Viewing the dataset size for different categories\n",
    "# Grouping by age and sex to see the data is distributed \n",
    "\n",
    "heart_df.groupby(['sex', 'age']).size().sort_values(ascending=False)"
   ]
  },
  {
   "cell_type": "code",
   "execution_count": 5,
   "id": "e215d2db",
   "metadata": {},
   "outputs": [
    {
     "data": {
      "text/html": [
       "<div>\n",
       "<style scoped>\n",
       "    .dataframe tbody tr th:only-of-type {\n",
       "        vertical-align: middle;\n",
       "    }\n",
       "\n",
       "    .dataframe tbody tr th {\n",
       "        vertical-align: top;\n",
       "    }\n",
       "\n",
       "    .dataframe thead th {\n",
       "        text-align: right;\n",
       "    }\n",
       "</style>\n",
       "<table border=\"1\" class=\"dataframe\">\n",
       "  <thead>\n",
       "    <tr style=\"text-align: right;\">\n",
       "      <th></th>\n",
       "      <th>age</th>\n",
       "      <th>sex</th>\n",
       "      <th>cp</th>\n",
       "      <th>trtbps</th>\n",
       "      <th>chol</th>\n",
       "      <th>fbs</th>\n",
       "      <th>restecg</th>\n",
       "      <th>thalachh</th>\n",
       "      <th>exng</th>\n",
       "      <th>oldpeak</th>\n",
       "      <th>slp</th>\n",
       "      <th>caa</th>\n",
       "      <th>thall</th>\n",
       "      <th>output</th>\n",
       "    </tr>\n",
       "  </thead>\n",
       "  <tbody>\n",
       "    <tr>\n",
       "      <th>count</th>\n",
       "      <td>303.000000</td>\n",
       "      <td>303.000000</td>\n",
       "      <td>303.000000</td>\n",
       "      <td>303.000000</td>\n",
       "      <td>303.000000</td>\n",
       "      <td>303.000000</td>\n",
       "      <td>303.000000</td>\n",
       "      <td>303.000000</td>\n",
       "      <td>303.000000</td>\n",
       "      <td>303.000000</td>\n",
       "      <td>303.000000</td>\n",
       "      <td>303.000000</td>\n",
       "      <td>303.000000</td>\n",
       "      <td>303.000000</td>\n",
       "    </tr>\n",
       "    <tr>\n",
       "      <th>mean</th>\n",
       "      <td>54.366337</td>\n",
       "      <td>0.683168</td>\n",
       "      <td>0.966997</td>\n",
       "      <td>131.623762</td>\n",
       "      <td>246.264026</td>\n",
       "      <td>0.148515</td>\n",
       "      <td>0.528053</td>\n",
       "      <td>149.646865</td>\n",
       "      <td>0.326733</td>\n",
       "      <td>1.039604</td>\n",
       "      <td>1.399340</td>\n",
       "      <td>0.729373</td>\n",
       "      <td>2.313531</td>\n",
       "      <td>0.544554</td>\n",
       "    </tr>\n",
       "    <tr>\n",
       "      <th>std</th>\n",
       "      <td>9.082101</td>\n",
       "      <td>0.466011</td>\n",
       "      <td>1.032052</td>\n",
       "      <td>17.538143</td>\n",
       "      <td>51.830751</td>\n",
       "      <td>0.356198</td>\n",
       "      <td>0.525860</td>\n",
       "      <td>22.905161</td>\n",
       "      <td>0.469794</td>\n",
       "      <td>1.161075</td>\n",
       "      <td>0.616226</td>\n",
       "      <td>1.022606</td>\n",
       "      <td>0.612277</td>\n",
       "      <td>0.498835</td>\n",
       "    </tr>\n",
       "    <tr>\n",
       "      <th>min</th>\n",
       "      <td>29.000000</td>\n",
       "      <td>0.000000</td>\n",
       "      <td>0.000000</td>\n",
       "      <td>94.000000</td>\n",
       "      <td>126.000000</td>\n",
       "      <td>0.000000</td>\n",
       "      <td>0.000000</td>\n",
       "      <td>71.000000</td>\n",
       "      <td>0.000000</td>\n",
       "      <td>0.000000</td>\n",
       "      <td>0.000000</td>\n",
       "      <td>0.000000</td>\n",
       "      <td>0.000000</td>\n",
       "      <td>0.000000</td>\n",
       "    </tr>\n",
       "    <tr>\n",
       "      <th>25%</th>\n",
       "      <td>47.500000</td>\n",
       "      <td>0.000000</td>\n",
       "      <td>0.000000</td>\n",
       "      <td>120.000000</td>\n",
       "      <td>211.000000</td>\n",
       "      <td>0.000000</td>\n",
       "      <td>0.000000</td>\n",
       "      <td>133.500000</td>\n",
       "      <td>0.000000</td>\n",
       "      <td>0.000000</td>\n",
       "      <td>1.000000</td>\n",
       "      <td>0.000000</td>\n",
       "      <td>2.000000</td>\n",
       "      <td>0.000000</td>\n",
       "    </tr>\n",
       "    <tr>\n",
       "      <th>50%</th>\n",
       "      <td>55.000000</td>\n",
       "      <td>1.000000</td>\n",
       "      <td>1.000000</td>\n",
       "      <td>130.000000</td>\n",
       "      <td>240.000000</td>\n",
       "      <td>0.000000</td>\n",
       "      <td>1.000000</td>\n",
       "      <td>153.000000</td>\n",
       "      <td>0.000000</td>\n",
       "      <td>0.800000</td>\n",
       "      <td>1.000000</td>\n",
       "      <td>0.000000</td>\n",
       "      <td>2.000000</td>\n",
       "      <td>1.000000</td>\n",
       "    </tr>\n",
       "    <tr>\n",
       "      <th>75%</th>\n",
       "      <td>61.000000</td>\n",
       "      <td>1.000000</td>\n",
       "      <td>2.000000</td>\n",
       "      <td>140.000000</td>\n",
       "      <td>274.500000</td>\n",
       "      <td>0.000000</td>\n",
       "      <td>1.000000</td>\n",
       "      <td>166.000000</td>\n",
       "      <td>1.000000</td>\n",
       "      <td>1.600000</td>\n",
       "      <td>2.000000</td>\n",
       "      <td>1.000000</td>\n",
       "      <td>3.000000</td>\n",
       "      <td>1.000000</td>\n",
       "    </tr>\n",
       "    <tr>\n",
       "      <th>max</th>\n",
       "      <td>77.000000</td>\n",
       "      <td>1.000000</td>\n",
       "      <td>3.000000</td>\n",
       "      <td>200.000000</td>\n",
       "      <td>564.000000</td>\n",
       "      <td>1.000000</td>\n",
       "      <td>2.000000</td>\n",
       "      <td>202.000000</td>\n",
       "      <td>1.000000</td>\n",
       "      <td>6.200000</td>\n",
       "      <td>2.000000</td>\n",
       "      <td>4.000000</td>\n",
       "      <td>3.000000</td>\n",
       "      <td>1.000000</td>\n",
       "    </tr>\n",
       "  </tbody>\n",
       "</table>\n",
       "</div>"
      ],
      "text/plain": [
       "              age         sex          cp      trtbps        chol         fbs  \\\n",
       "count  303.000000  303.000000  303.000000  303.000000  303.000000  303.000000   \n",
       "mean    54.366337    0.683168    0.966997  131.623762  246.264026    0.148515   \n",
       "std      9.082101    0.466011    1.032052   17.538143   51.830751    0.356198   \n",
       "min     29.000000    0.000000    0.000000   94.000000  126.000000    0.000000   \n",
       "25%     47.500000    0.000000    0.000000  120.000000  211.000000    0.000000   \n",
       "50%     55.000000    1.000000    1.000000  130.000000  240.000000    0.000000   \n",
       "75%     61.000000    1.000000    2.000000  140.000000  274.500000    0.000000   \n",
       "max     77.000000    1.000000    3.000000  200.000000  564.000000    1.000000   \n",
       "\n",
       "          restecg    thalachh        exng     oldpeak         slp         caa  \\\n",
       "count  303.000000  303.000000  303.000000  303.000000  303.000000  303.000000   \n",
       "mean     0.528053  149.646865    0.326733    1.039604    1.399340    0.729373   \n",
       "std      0.525860   22.905161    0.469794    1.161075    0.616226    1.022606   \n",
       "min      0.000000   71.000000    0.000000    0.000000    0.000000    0.000000   \n",
       "25%      0.000000  133.500000    0.000000    0.000000    1.000000    0.000000   \n",
       "50%      1.000000  153.000000    0.000000    0.800000    1.000000    0.000000   \n",
       "75%      1.000000  166.000000    1.000000    1.600000    2.000000    1.000000   \n",
       "max      2.000000  202.000000    1.000000    6.200000    2.000000    4.000000   \n",
       "\n",
       "            thall      output  \n",
       "count  303.000000  303.000000  \n",
       "mean     2.313531    0.544554  \n",
       "std      0.612277    0.498835  \n",
       "min      0.000000    0.000000  \n",
       "25%      2.000000    0.000000  \n",
       "50%      2.000000    1.000000  \n",
       "75%      3.000000    1.000000  \n",
       "max      3.000000    1.000000  "
      ]
     },
     "execution_count": 5,
     "metadata": {},
     "output_type": "execute_result"
    }
   ],
   "source": [
    "# Summary statistics on the whole dataset to get a quick overview of the data. \n",
    "heart_df.describe()"
   ]
  },
  {
   "cell_type": "markdown",
   "id": "52b1c1d7",
   "metadata": {},
   "source": [
    "Initially while looking at the data at a very high level we can draw some very simple conclusions. \n",
    "It appears from this set of data the average male aged around 55 seem to experience a higher chance of suffering from a heart attack. Whilst this is a very simplistic view of the dataset I will be exploring this further with the use of some classifier models to predict whether a patient will have a higher chance of having a heart attack.\n",
    "\n",
    "There are a wide variety of feature variables in the data which will be used to predict the outcome or the target variable. \n",
    "Whilst there are a number of major factors contributing to a heart attack my initial assumptions are that the main feature variables that will be heavily reliant on predicting the outcome will be the following (in no particular order of importance):  \n",
    "-  chol\n",
    "-  trtbps\n",
    "-  oldpeak \n",
    "\n",
    "chol represents the cholesteral level in the patient. \n",
    "\n",
    "> When you have too much “bad” cholesterol in your body, it can start to pose a problem. It contributes to fatty deposits in the arteries called plaque, which can cause heart disease. \n",
    "When that plaque builds up, it makes it harder for blood to flow, and these deposits can eventually break and form a clot that leads to a heart attack.[<sup>1</sup>](#fn1)\n",
    "\n",
    "However there are some alternative sources which contradict a common understanding that cholesterol leads to heart attacks, this article suggests that in a peer reviewed journal written in 2013 that looking at just cholesterol is not enough to determine a heart attack eventhood.[<sup>2</sup>](#fn2)\n",
    "\n",
    "As I suggested previously there are a number of variables that combine and contribute to a likelyhood of a heart attack happening which brings me onto the next variable I predict will also be an important variable in the model. \n",
    "\n",
    "trtbps is the resting blood pressure in the patient. \n",
    "\n",
    ">In most cases, damage done from high blood pressure (HBP or hypertension) occurs over time. Left undetected or uncontrolled, high blood pressure can lead to:  \n",
    ">Heart attack — High blood pressure damages arteries that can become blocked and prevent blood flow to the heart muscle.[<sup>3</sup>](#fn3)\n",
    "\n",
    "\n",
    "The important thing to note here is that widely known and described in the article - high blood pressure can contribute to heart attacks but usually over a period of time rather than a sudden change in blood pressure.  \n",
    "\n",
    "\n",
    "The next variable I think will be one main determining factor is caa which represents the number of the major vessels that are blocked by atherosclerosis. \n",
    "\n",
    ">Coronary heart disease (CHD) is the leading cause of heart attacks. CHD is a condition in which the coronary arteries (the major blood vessels that supply the heart with blood) become clogged with deposits of cholesterol. These deposits are called plaques.\n",
    ">Before a heart attack, one of the plaques ruptures (bursts), causing a blood clot to form at the site of the rupture. The clot may block the supply of blood to the heart, triggering a heart attack.[<sup>4</sup>](#fn4)\n"
   ]
  },
  {
   "cell_type": "code",
   "execution_count": 32,
   "id": "c9fde5fe",
   "metadata": {
    "scrolled": true
   },
   "outputs": [
    {
     "data": {
      "image/png": "[encoded data removed]",
      "text/plain": [
       "<Figure size 1296x1152 with 6 Axes>"
      ]
     },
     "metadata": {},
     "output_type": "display_data"
    }
   ],
   "source": [
    "### Some exploratory visualisations\n",
    "\n",
    "fig = plt.figure(figsize=(18,16))\n",
    "gs = fig.add_gridspec(2,3)\n",
    "gs.update(wspace=0.3, hspace=0.15)\n",
    "ax0 = fig.add_subplot(gs[0,0])\n",
    "ax1 = fig.add_subplot(gs[0,1])\n",
    "ax2 = fig.add_subplot(gs[0,2])\n",
    "ax3 = fig.add_subplot(gs[1,0])\n",
    "ax4 = fig.add_subplot(gs[1,1])\n",
    "ax5 = fig.add_subplot(gs[1,2])\n",
    "\n",
    "background_colour = \"#94D2BD\"\n",
    "colour_palette = [\"#001219\",\"#005F73\",\"#0A9396\",\"#E9D8A6\",\"#EE9B00\"]\n",
    "fig.patch.set_facecolor(background_colour) \n",
    "ax0.set_facecolor(background_colour) \n",
    "ax1.set_facecolor(background_colour) \n",
    "ax2.set_facecolor(background_colour) \n",
    "ax3.set_facecolor(background_colour) \n",
    "ax4.set_facecolor(background_colour) \n",
    "ax5.set_facecolor(background_colour) \n",
    "\n",
    "# Title of the plot\n",
    "ax0.spines[\"bottom\"].set_visible(False)\n",
    "ax0.spines[\"left\"].set_visible(False)\n",
    "ax0.spines[\"top\"].set_visible(False)\n",
    "ax0.spines[\"right\"].set_visible(False)\n",
    "ax0.tick_params(left=False, bottom=False)\n",
    "ax0.set_xticklabels([])\n",
    "ax0.set_yticklabels([])\n",
    "ax0.text(0.5,0.5,\n",
    "         'Box plot for each feature\\n_________________',\n",
    "         horizontalalignment='center',\n",
    "         verticalalignment='center',\n",
    "         fontsize=18, fontweight='bold',\n",
    "         fontfamily='serif',\n",
    "         color=\"#000000\")\n",
    "\n",
    "# Age \n",
    "ax1.text(-0.05, 81, 'Age', fontsize=14, fontweight='bold', fontfamily='serif', color=\"#000000\")\n",
    "ax1.grid(color='#000000', linestyle=':', axis='y', zorder=0,  dashes=(1,5))\n",
    "sns.boxenplot(ax=ax1,y=heart_df['age'],palette=[colour_palette[2]],width=0.6)\n",
    "ax1.set_xlabel(\"\")\n",
    "ax1.set_ylabel(\"\");"
   ]
  },
  {
   "cell_type": "markdown",
   "id": "4d18d834",
   "metadata": {},
   "source": [
    "### Choosing feature variables"
   ]
  },
  {
   "cell_type": "code",
   "execution_count": 6,
   "id": "7006d8d1",
   "metadata": {},
   "outputs": [
    {
     "name": "stderr",
     "output_type": "stream",
     "text": [
      "C:\\Users\\dylan\\AppData\\Local\\Temp\\ipykernel_7048\\2203312329.py:3: FutureWarning: In a future version of pandas all arguments of DataFrame.drop except for the argument 'labels' will be keyword-only.\n",
      "  X = heart_df.drop('output', 1)\n"
     ]
    }
   ],
   "source": [
    "#Splitting our dataset into feature data (X) and target data (y). \n",
    "\n",
    "X = heart_df.drop('output', 1)\n",
    "y = heart_df[['output']]"
   ]
  },
  {
   "cell_type": "code",
   "execution_count": null,
   "id": "c88992d7",
   "metadata": {},
   "outputs": [],
   "source": [
    "# Creating the KNN model to use with n equal to 4 (chosen at random by default)\n",
    "knn = KNeighborsClassifier(n_neighbors=4)\n",
    "\n",
    "# Fitting the knn model with the feature and target data created previously\n",
    "knn.fit(X.values, np.ravel(y))"
   ]
  },
  {
   "cell_type": "code",
   "execution_count": null,
   "id": "ce29a53d",
   "metadata": {},
   "outputs": [],
   "source": [
    "# Viewing the first row of the original dataframe for input into the model. \n",
    "\n",
    "print(heart_df.iloc[1,:])\n",
    "print(heart_df.iloc[302,:])"
   ]
  },
  {
   "cell_type": "code",
   "execution_count": null,
   "id": "18d447ab",
   "metadata": {},
   "outputs": [],
   "source": [
    "# testing out prediction using a random existing record from the dataset. \n",
    "# Using the first row in our dataset in the knn model it was able to predict the same outcome as in the original dataset. \n",
    "\n",
    "\n",
    "## Using the last row of the dataframe the model did not predict correctly. \n",
    "knn.predict([[57, 0, 1, 130, 236, 0, 0, 174, 0, 0, 1, 1, 2]])"
   ]
  },
  {
   "cell_type": "markdown",
   "id": "0331f681",
   "metadata": {},
   "source": [
    "## References"
   ]
  },
  {
   "cell_type": "markdown",
   "id": "941bf8f8",
   "metadata": {},
   "source": [
    "<span id=\"fn1\">[1: https://www.everydayhealth.com/heart-health/cholesterol-and-heart-attack-risk/](https://www.everydayhealth.com/heart-health/cholesterol-and-heart-attack-risk/) </span>  \n",
    "<span id=\"fn2\">[2: https://www.healthline.com/health-news/cholesterol-and-heart-attacks](https://www.healthline.com/health-news/cholesterol-and-heart-attacks) </span>  \n",
    "<span id=\"fn3\">[3: https://www.heart.org/en/health-topics/high-blood-pressure/health-threats-from-high-blood-pressure](https://www.heart.org/en/health-topics/high-blood-pressure/health-threats-from-high-blood-pressure)  \n",
    "<span id=\"fn4\">[4: https://www.nhs.uk/conditions/heart-attack/causes/](https://www.nhs.uk/conditions/heart-attack/causes/)"
   ]
  }
 ],
 "metadata": {
  "kernelspec": {
   "display_name": "env",
   "language": "python",
   "name": "env"
  },
  "language_info": {
   "codemirror_mode": {
    "name": "ipython",
    "version": 3
   },
   "file_extension": ".py",
   "mimetype": "text/x-python",
   "name": "python",
   "nbconvert_exporter": "python",
   "pygments_lexer": "ipython3",
   "version": "3.10.4"
  },
  "toc": {
   "base_numbering": 1,
   "nav_menu": {},
   "number_sections": true,
   "sideBar": true,
   "skip_h1_title": true,
   "title_cell": "Table of Contents",
   "title_sidebar": "Contents",
   "toc_cell": false,
   "toc_position": {},
   "toc_section_display": true,
   "toc_window_display": false
  },
  "varInspector": {
   "cols": {
    "lenName": 16,
    "lenType": 16,
    "lenVar": 40
   },
   "kernels_config": {
    "python": {
     "delete_cmd_postfix": "",
     "delete_cmd_prefix": "del ",
     "library": "var_list.py",
     "varRefreshCmd": "print(var_dic_list())"
    },
    "r": {
     "delete_cmd_postfix": ") ",
     "delete_cmd_prefix": "rm(",
     "library": "var_list.r",
     "varRefreshCmd": "cat(var_dic_list()) "
    }
   },
   "types_to_exclude": [
    "module",
    "function",
    "builtin_function_or_method",
    "instance",
    "_Feature"
   ],
   "window_display": false
  }
 },
 "nbformat": 4,
 "nbformat_minor": 5
}
